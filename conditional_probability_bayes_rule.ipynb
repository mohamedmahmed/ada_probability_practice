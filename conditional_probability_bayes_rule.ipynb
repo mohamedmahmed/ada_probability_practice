{
 "cells": [
  {
   "cell_type": "markdown",
   "metadata": {},
   "source": [
    "# Conditional Probability & Bayes Rule Quiz"
   ]
  },
  {
   "cell_type": "markdown",
   "metadata": {},
   "source": [
    "P( C )\t0.105\tP( ~C  )\t0.895\t\t\n",
    "P(P|C)\t0.905\tP(N|C)\t0.095\t\t\n",
    "P(P|~C)\t0.204\tP(N|~C)\t0.796\t\t\n",
    "\t\t\t\t\t\n",
    "P(P)\tP(P|C)*P( C )\t\t0.095025\t\t0.277605\n",
    "\tP(P|~C)*P(~C)\t\t0.18258\t\t\n",
    "\t\t\t\t\t\n",
    "P(N)\tP(N|C)*P( C )\t\t0.009975\t\t0.722395\n",
    "\tP(N|~C)*P(~C)\t\t0.71242\t\t\n",
    "\t\t\t\t\t\n",
    "P(C|P)\tP(P|C)\tP( C )\t0.342302912\t\t\n",
    "\tP(P)\t\t\t\t\n",
    "\t\t\t\t\t\n",
    "P(~C|P)\tP(P|~C)\tP(~C)\t0.657697088\t\t\n",
    "\tP(P)\t\t\t\t\n",
    "\t\t\t\t\t\n",
    "\t\t\t\t\t\n",
    "P(C|N)\tP(N|C)\tP( C )\t0.013808235\t\t\n",
    "\tP(N)\t\t\t\t\n",
    "\t\t\t\t\t\n",
    "\t\t\t\t\t\n",
    "P(~C|N)\tP(N|~C)\tP(~C)\t0.986191765\t\t\n",
    "\tP(N)\t\t\t\t"
   ]
  },
  {
   "cell_type": "code",
   "execution_count": 1,
   "metadata": {},
   "outputs": [
    {
     "data": {
      "text/html": [
       "<div>\n",
       "<style scoped>\n",
       "    .dataframe tbody tr th:only-of-type {\n",
       "        vertical-align: middle;\n",
       "    }\n",
       "\n",
       "    .dataframe tbody tr th {\n",
       "        vertical-align: top;\n",
       "    }\n",
       "\n",
       "    .dataframe thead th {\n",
       "        text-align: right;\n",
       "    }\n",
       "</style>\n",
       "<table border=\"1\" class=\"dataframe\">\n",
       "  <thead>\n",
       "    <tr style=\"text-align: right;\">\n",
       "      <th></th>\n",
       "      <th>patient_id</th>\n",
       "      <th>test_result</th>\n",
       "      <th>has_cancer</th>\n",
       "    </tr>\n",
       "  </thead>\n",
       "  <tbody>\n",
       "    <tr>\n",
       "      <th>0</th>\n",
       "      <td>79452</td>\n",
       "      <td>Negative</td>\n",
       "      <td>False</td>\n",
       "    </tr>\n",
       "    <tr>\n",
       "      <th>1</th>\n",
       "      <td>81667</td>\n",
       "      <td>Positive</td>\n",
       "      <td>True</td>\n",
       "    </tr>\n",
       "    <tr>\n",
       "      <th>2</th>\n",
       "      <td>76297</td>\n",
       "      <td>Negative</td>\n",
       "      <td>False</td>\n",
       "    </tr>\n",
       "    <tr>\n",
       "      <th>3</th>\n",
       "      <td>36593</td>\n",
       "      <td>Negative</td>\n",
       "      <td>False</td>\n",
       "    </tr>\n",
       "    <tr>\n",
       "      <th>4</th>\n",
       "      <td>53717</td>\n",
       "      <td>Negative</td>\n",
       "      <td>False</td>\n",
       "    </tr>\n",
       "  </tbody>\n",
       "</table>\n",
       "</div>"
      ],
      "text/plain": [
       "   patient_id test_result  has_cancer\n",
       "0       79452    Negative       False\n",
       "1       81667    Positive        True\n",
       "2       76297    Negative       False\n",
       "3       36593    Negative       False\n",
       "4       53717    Negative       False"
      ]
     },
     "execution_count": 1,
     "metadata": {},
     "output_type": "execute_result"
    }
   ],
   "source": [
    "# load dataset\n",
    "import pandas as pd\n",
    "import numpy as np\n",
    "\n",
    "df = pd.read_csv('cancer_test_data.csv')\n",
    "df.head()"
   ]
  },
  {
   "cell_type": "code",
   "execution_count": 9,
   "metadata": {},
   "outputs": [
    {
     "name": "stdout",
     "output_type": "stream",
     "text": [
      "proportion of patients who tested positive has cancer 0.34282178217821785\n"
     ]
    }
   ],
   "source": [
    "# What proportion of patients who tested positive has cancer?\n",
    "print('proportion of patients who tested positive has cancer {}'.format(df[df['test_result'] == 'Positive'].has_cancer.value_counts(normalize='True')[True]))"
   ]
  },
  {
   "cell_type": "code",
   "execution_count": 10,
   "metadata": {},
   "outputs": [
    {
     "name": "stdout",
     "output_type": "stream",
     "text": [
      "proportion of patients who tested positive doesn't have cancer 0.6571782178217822\n"
     ]
    }
   ],
   "source": [
    "# What proportion of patients who tested positive doesn't have cancer?\n",
    "print('proportion of patients who tested positive doesn\\'t have cancer {}'.format(df[df['test_result'] == 'Positive'].has_cancer.value_counts(normalize='True')[False]))"
   ]
  },
  {
   "cell_type": "code",
   "execution_count": 11,
   "metadata": {},
   "outputs": [
    {
     "name": "stdout",
     "output_type": "stream",
     "text": [
      "proportion of patients who tested negative has cancer 0.013770180436847104\n"
     ]
    }
   ],
   "source": [
    "# What proportion of patients who tested negative has cancer?\n",
    "print('proportion of patients who tested negative has cancer {}'.format(df[df['test_result'] == 'Negative'].has_cancer.value_counts(normalize='True')[True]))"
   ]
  },
  {
   "cell_type": "code",
   "execution_count": null,
   "metadata": {},
   "outputs": [],
   "source": [
    "# What proportion of patients who tested negative doesn't have cancer?\n",
    "print('proportion of patients who tested negative doesn\\'t have cancer {}'.format(df[df['test_result'] == 'Negative'].has_cancer.value_counts(normalize='True')[False]))"
   ]
  },
  {
   "cell_type": "code",
   "execution_count": null,
   "metadata": {},
   "outputs": [],
   "source": []
  }
 ],
 "metadata": {
  "kernelspec": {
   "display_name": "Python 3",
   "language": "python",
   "name": "python3"
  },
  "language_info": {
   "codemirror_mode": {
    "name": "ipython",
    "version": 3
   },
   "file_extension": ".py",
   "mimetype": "text/x-python",
   "name": "python",
   "nbconvert_exporter": "python",
   "pygments_lexer": "ipython3",
   "version": "3.6.3"
  }
 },
 "nbformat": 4,
 "nbformat_minor": 2
}
